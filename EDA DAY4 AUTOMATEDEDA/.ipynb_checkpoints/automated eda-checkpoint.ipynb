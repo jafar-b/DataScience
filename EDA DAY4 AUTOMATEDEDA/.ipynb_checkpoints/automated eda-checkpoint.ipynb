{
 "cells": [
  {
   "cell_type": "code",
   "execution_count": 1,
   "id": "d74212a7",
   "metadata": {},
   "outputs": [
    {
     "name": "stdout",
     "output_type": "stream",
     "text": [
      "Requirement already satisfied: pandas_profiling in c:\\users\\jafar\\appdata\\roaming\\python\\python39\\site-packages (3.2.0)"
     ]
    },
    {
     "name": "stderr",
     "output_type": "stream",
     "text": [
      "WARNING: Ignoring invalid distribution -ip (c:\\python39\\lib\\site-packages)\n",
      "WARNING: Ignoring invalid distribution -ip (c:\\python39\\lib\\site-packages)\n",
      "WARNING: Ignoring invalid distribution -ip (c:\\python39\\lib\\site-packages)\n",
      "WARNING: Ignoring invalid distribution -ip (c:\\python39\\lib\\site-packages)\n"
     ]
    },
    {
     "name": "stdout",
     "output_type": "stream",
     "text": [
      "\n",
      "Requirement already satisfied: tangled-up-in-unicode==0.2.0 in c:\\users\\jafar\\appdata\\roaming\\python\\python39\\site-packages (from pandas_profiling) (0.2.0)\n",
      "Requirement already satisfied: multimethod>=1.4 in c:\\users\\jafar\\appdata\\roaming\\python\\python39\\site-packages (from pandas_profiling) (1.8)\n",
      "Requirement already satisfied: visions[type_image_path]==0.7.4 in c:\\users\\jafar\\appdata\\roaming\\python\\python39\\site-packages (from pandas_profiling) (0.7.4)\n",
      "Requirement already satisfied: pandas!=1.0.0,!=1.0.1,!=1.0.2,!=1.1.0,>=0.25.3 in c:\\python39\\lib\\site-packages (from pandas_profiling) (1.4.3)\n",
      "Requirement already satisfied: jinja2>=2.11.1 in c:\\users\\jafar\\appdata\\roaming\\python\\python39\\site-packages (from pandas_profiling) (3.1.2)\n",
      "Requirement already satisfied: matplotlib>=3.2.0 in c:\\users\\jafar\\appdata\\roaming\\python\\python39\\site-packages (from pandas_profiling) (3.5.2)\n",
      "Requirement already satisfied: htmlmin>=0.1.12 in c:\\python39\\lib\\site-packages (from pandas_profiling) (0.1.12)\n",
      "Requirement already satisfied: numpy>=1.16.0 in c:\\python39\\lib\\site-packages (from pandas_profiling) (1.22.3)\n",
      "Requirement already satisfied: missingno>=0.4.2 in c:\\users\\jafar\\appdata\\roaming\\python\\python39\\site-packages (from pandas_profiling) (0.5.1)\n",
      "Requirement already satisfied: requests>=2.24.0 in c:\\python39\\lib\\site-packages (from pandas_profiling) (2.27.1)\n",
      "Requirement already satisfied: seaborn>=0.10.1 in c:\\users\\jafar\\appdata\\roaming\\python\\python39\\site-packages (from pandas_profiling) (0.11.2)\n",
      "Requirement already satisfied: pydantic>=1.8.1 in c:\\users\\jafar\\appdata\\roaming\\python\\python39\\site-packages (from pandas_profiling) (1.9.1)\n",
      "Requirement already satisfied: phik>=0.11.1 in c:\\users\\jafar\\appdata\\roaming\\python\\python39\\site-packages (from pandas_profiling) (0.12.2)\n",
      "Requirement already satisfied: markupsafe~=2.1.1 in c:\\users\\jafar\\appdata\\roaming\\python\\python39\\site-packages (from pandas_profiling) (2.1.1)\n",
      "Requirement already satisfied: tqdm>=4.48.2 in c:\\users\\jafar\\appdata\\roaming\\python\\python39\\site-packages (from pandas_profiling) (4.64.0)\n",
      "Requirement already satisfied: joblib~=1.1.0 in c:\\python39\\lib\\site-packages (from pandas_profiling) (1.1.0)\n",
      "Requirement already satisfied: PyYAML>=5.0.0 in c:\\users\\jafar\\appdata\\roaming\\python\\python39\\site-packages (from pandas_profiling) (6.0)\n",
      "Requirement already satisfied: scipy>=1.4.1 in c:\\users\\jafar\\appdata\\roaming\\python\\python39\\site-packages (from pandas_profiling) (1.8.1)\n",
      "Requirement already satisfied: networkx>=2.4 in c:\\users\\jafar\\appdata\\roaming\\python\\python39\\site-packages (from visions[type_image_path]==0.7.4->pandas_profiling) (2.8.4)\n",
      "Requirement already satisfied: attrs>=19.3.0 in c:\\users\\jafar\\appdata\\roaming\\python\\python39\\site-packages (from visions[type_image_path]==0.7.4->pandas_profiling) (21.4.0)\n",
      "Requirement already satisfied: imagehash in c:\\users\\jafar\\appdata\\roaming\\python\\python39\\site-packages (from visions[type_image_path]==0.7.4->pandas_profiling) (4.2.1)\n",
      "Requirement already satisfied: Pillow in c:\\python39\\lib\\site-packages (from visions[type_image_path]==0.7.4->pandas_profiling) (9.1.1)\n",
      "Requirement already satisfied: packaging>=20.0 in c:\\python39\\lib\\site-packages (from matplotlib>=3.2.0->pandas_profiling) (21.3)\n",
      "Requirement already satisfied: pyparsing>=2.2.1 in c:\\python39\\lib\\site-packages (from matplotlib>=3.2.0->pandas_profiling) (3.0.7)\n",
      "Requirement already satisfied: fonttools>=4.22.0 in c:\\python39\\lib\\site-packages (from matplotlib>=3.2.0->pandas_profiling) (4.33.3)\n",
      "Requirement already satisfied: python-dateutil>=2.7 in c:\\python39\\lib\\site-packages (from matplotlib>=3.2.0->pandas_profiling) (2.8.2)\n",
      "Requirement already satisfied: cycler>=0.10 in c:\\users\\jafar\\appdata\\roaming\\python\\python39\\site-packages (from matplotlib>=3.2.0->pandas_profiling) (0.11.0)\n",
      "Requirement already satisfied: kiwisolver>=1.0.1 in c:\\python39\\lib\\site-packages (from matplotlib>=3.2.0->pandas_profiling) (1.4.3)\n",
      "Requirement already satisfied: pytz>=2020.1 in c:\\python39\\lib\\site-packages (from pandas!=1.0.0,!=1.0.1,!=1.0.2,!=1.1.0,>=0.25.3->pandas_profiling) (2022.1)\n",
      "Requirement already satisfied: typing-extensions>=3.7.4.3 in c:\\users\\jafar\\appdata\\roaming\\python\\python39\\site-packages (from pydantic>=1.8.1->pandas_profiling) (4.2.0)\n",
      "Requirement already satisfied: urllib3<1.27,>=1.21.1 in c:\\python39\\lib\\site-packages (from requests>=2.24.0->pandas_profiling) (1.26.8)\n",
      "Requirement already satisfied: idna<4,>=2.5 in c:\\python39\\lib\\site-packages (from requests>=2.24.0->pandas_profiling) (3.3)\n",
      "Requirement already satisfied: certifi>=2017.4.17 in c:\\python39\\lib\\site-packages (from requests>=2.24.0->pandas_profiling) (2021.10.8)\n",
      "Requirement already satisfied: charset-normalizer~=2.0.0 in c:\\python39\\lib\\site-packages (from requests>=2.24.0->pandas_profiling) (2.0.12)\n",
      "Requirement already satisfied: colorama in c:\\users\\jafar\\appdata\\roaming\\python\\python39\\site-packages (from tqdm>=4.48.2->pandas_profiling) (0.4.5)\n",
      "Requirement already satisfied: six>=1.5 in c:\\python39\\lib\\site-packages (from python-dateutil>=2.7->matplotlib>=3.2.0->pandas_profiling) (1.16.0)\n",
      "Requirement already satisfied: PyWavelets in c:\\users\\jafar\\appdata\\roaming\\python\\python39\\site-packages (from imagehash->visions[type_image_path]==0.7.4->pandas_profiling) (1.3.0)\n"
     ]
    }
   ],
   "source": [
    "!pip install pandas_profiling"
   ]
  },
  {
   "cell_type": "code",
   "execution_count": 3,
   "id": "7d81ff67",
   "metadata": {},
   "outputs": [],
   "source": [
    "import numpy as np\n",
    "import pandas as pd\n",
    "import matplotlib.pyplot as plt\n",
    "import seaborn as sns\n",
    "%matplotlib inline\n",
    "from pandas_profiling import ProfileReport"
   ]
  },
  {
   "cell_type": "code",
   "execution_count": 8,
   "id": "d2992056",
   "metadata": {},
   "outputs": [],
   "source": [
    "df=sns.load_dataset(\"tips\")"
   ]
  },
  {
   "cell_type": "code",
   "execution_count": 10,
   "id": "85deb5f4",
   "metadata": {},
   "outputs": [],
   "source": [
    "profile=ProfileReport(df,explorative=True,dark_mode=True)"
   ]
  },
  {
   "cell_type": "code",
   "execution_count": 11,
   "id": "1ffed97a",
   "metadata": {},
   "outputs": [
    {
     "data": {
      "application/vnd.jupyter.widget-view+json": {
       "model_id": "3c53612172c44f95ae4178690f19d6a5",
       "version_major": 2,
       "version_minor": 0
      },
      "text/plain": [
       "Summarize dataset:   0%|          | 0/5 [00:00<?, ?it/s]"
      ]
     },
     "metadata": {},
     "output_type": "display_data"
    },
    {
     "data": {
      "application/vnd.jupyter.widget-view+json": {
       "model_id": "a435cb49c92e426aa1bdea2102012c38",
       "version_major": 2,
       "version_minor": 0
      },
      "text/plain": [
       "Generate report structure:   0%|          | 0/1 [00:00<?, ?it/s]"
      ]
     },
     "metadata": {},
     "output_type": "display_data"
    },
    {
     "data": {
      "application/vnd.jupyter.widget-view+json": {
       "model_id": "7767289cec9845eb9a61d4a5d7226bb1",
       "version_major": 2,
       "version_minor": 0
      },
      "text/plain": [
       "Render HTML:   0%|          | 0/1 [00:00<?, ?it/s]"
      ]
     },
     "metadata": {},
     "output_type": "display_data"
    },
    {
     "data": {
      "application/vnd.jupyter.widget-view+json": {
       "model_id": "b6af3cf802cd49e086d68993288af171",
       "version_major": 2,
       "version_minor": 0
      },
      "text/plain": [
       "Export report to file:   0%|          | 0/1 [00:00<?, ?it/s]"
      ]
     },
     "metadata": {},
     "output_type": "display_data"
    }
   ],
   "source": [
    "profile.to_file('automatedEDA.html')"
   ]
  },
  {
   "cell_type": "code",
   "execution_count": null,
   "id": "57f8c88b",
   "metadata": {},
   "outputs": [],
   "source": []
  }
 ],
 "metadata": {
  "kernelspec": {
   "display_name": "Python 3 (ipykernel)",
   "language": "python",
   "name": "python3"
  },
  "language_info": {
   "codemirror_mode": {
    "name": "ipython",
    "version": 3
   },
   "file_extension": ".py",
   "mimetype": "text/x-python",
   "name": "python",
   "nbconvert_exporter": "python",
   "pygments_lexer": "ipython3",
   "version": "3.9.7"
  }
 },
 "nbformat": 4,
 "nbformat_minor": 5
}
